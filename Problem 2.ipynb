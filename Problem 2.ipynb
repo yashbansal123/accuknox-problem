{
 "cells": [
  {
   "cell_type": "markdown",
   "id": "ddc0ce23",
   "metadata": {},
   "source": [
    "# Original Class"
   ]
  },
  {
   "cell_type": "code",
   "execution_count": null,
   "id": "543684da",
   "metadata": {},
   "outputs": [],
   "source": [
    "class Node:\n",
    "    children = []\n",
    "    def __init__(self, name, parent=None):\n",
    "        self.name = name\n",
    "        self.parent = parent\n",
    "        if parent is not None:\n",
    "            parent.children.append(self)\n",
    "    def __str__(self):\n",
    "        return self.name\n",
    "\n",
    "def printer(root, level=0):\n",
    "    print(\" \"*level + \"|-\", root.name)\n",
    "    for node in root.children:\n",
    "        printer(node, level+1)\n",
    "if __name__ == \"__main__\":\n",
    "    root = Node(\"Root\")\n",
    "    node1 = Node(\"1\",root)\n",
    "    node11 = Node(\"1.1\", node1)\n",
    "    node12 = Node(\"1.2\", node1)\n",
    "    node13 = Node(\"1.3\", node1)\n",
    "    node14 = Node(\"1.4\", node1)\n",
    "    node15 = Node(\"1.5\", node1)\n",
    "    node2 = Node(\"2\",root)\n",
    "    node21 = Node(\"2.1\", node2)\n",
    "    node22 = Node(\"2.2\", node2)\n",
    "    node23 = Node(\"2.3\", node2)\n",
    "    node24 = Node(\"2.4\", node2)\n",
    "    node25 = Node(\"2.5\", node2)\n",
    "    printer(root)"
   ]
  },
  {
   "cell_type": "markdown",
   "id": "f423f028",
   "metadata": {},
   "source": [
    "### This program creates an infinite loop\n",
    "#### Reason: Here, each individual instance of class \"Node\" is using a class property called \"children\", this property is shared by every object and since its a class object, any and all changes made by its instances will update original shared object\n",
    "#### Hence when printer is called, it again refers to same children object and in this way, the printer function keeps calling itself over every children again and again, causing an \"INFINITE LOOP\"\n",
    "\n",
    "### FIX \n",
    "#### Instead of making \"children\" a class object, We should make it an object or instance property, which means it'll be "
   ]
  }
 ],
 "metadata": {
  "kernelspec": {
   "display_name": "Python 3 (ipykernel)",
   "language": "python",
   "name": "python3"
  },
  "language_info": {
   "codemirror_mode": {
    "name": "ipython",
    "version": 3
   },
   "file_extension": ".py",
   "mimetype": "text/x-python",
   "name": "python",
   "nbconvert_exporter": "python",
   "pygments_lexer": "ipython3",
   "version": "3.10.8"
  }
 },
 "nbformat": 4,
 "nbformat_minor": 5
}
