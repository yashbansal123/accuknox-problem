{
 "cells": [
  {
   "cell_type": "markdown",
   "id": "46031e14",
   "metadata": {},
   "source": [
    "# This is response to Problem 1 :\n",
    "#### This notebook provides function to find most consumed foodmenu_id for logs file\n",
    "#### logs file initially contains unique pair of eater_id and foodmenu_id "
   ]
  },
  {
   "cell_type": "code",
   "execution_count": 1,
   "id": "854bf110",
   "metadata": {},
   "outputs": [],
   "source": [
    "import numpy as np\n",
    "import pandas as pd\n",
    "import random"
   ]
  },
  {
   "cell_type": "code",
   "execution_count": 2,
   "id": "ae63717e",
   "metadata": {},
   "outputs": [],
   "source": [
    "df = pd.read_csv(\"logs.csv\")"
   ]
  },
  {
   "cell_type": "code",
   "execution_count": 3,
   "id": "5905f456",
   "metadata": {},
   "outputs": [
    {
     "data": {
      "text/html": [
       "<div>\n",
       "<style scoped>\n",
       "    .dataframe tbody tr th:only-of-type {\n",
       "        vertical-align: middle;\n",
       "    }\n",
       "\n",
       "    .dataframe tbody tr th {\n",
       "        vertical-align: top;\n",
       "    }\n",
       "\n",
       "    .dataframe thead th {\n",
       "        text-align: right;\n",
       "    }\n",
       "</style>\n",
       "<table border=\"1\" class=\"dataframe\">\n",
       "  <thead>\n",
       "    <tr style=\"text-align: right;\">\n",
       "      <th></th>\n",
       "      <th>eater_id</th>\n",
       "      <th>foodmenu_id</th>\n",
       "    </tr>\n",
       "  </thead>\n",
       "  <tbody>\n",
       "    <tr>\n",
       "      <th>0</th>\n",
       "      <td>0</td>\n",
       "      <td>0</td>\n",
       "    </tr>\n",
       "    <tr>\n",
       "      <th>1</th>\n",
       "      <td>0</td>\n",
       "      <td>1</td>\n",
       "    </tr>\n",
       "    <tr>\n",
       "      <th>2</th>\n",
       "      <td>0</td>\n",
       "      <td>2</td>\n",
       "    </tr>\n",
       "    <tr>\n",
       "      <th>3</th>\n",
       "      <td>0</td>\n",
       "      <td>3</td>\n",
       "    </tr>\n",
       "    <tr>\n",
       "      <th>4</th>\n",
       "      <td>0</td>\n",
       "      <td>4</td>\n",
       "    </tr>\n",
       "  </tbody>\n",
       "</table>\n",
       "</div>"
      ],
      "text/plain": [
       "   eater_id  foodmenu_id\n",
       "0         0            0\n",
       "1         0            1\n",
       "2         0            2\n",
       "3         0            3\n",
       "4         0            4"
      ]
     },
     "execution_count": 3,
     "metadata": {},
     "output_type": "execute_result"
    }
   ],
   "source": [
    "df.head()"
   ]
  },
  {
   "cell_type": "markdown",
   "id": "86a4e52d",
   "metadata": {},
   "source": [
    "# Function that returns the top 3 items having highest foodmenu_id frequency\n",
    "## this function returns an exception with indicies if any eater_id has multiple same foodmenu_id present."
   ]
  },
  {
   "cell_type": "code",
   "execution_count": 4,
   "id": "cff78318",
   "metadata": {},
   "outputs": [],
   "source": [
    "def findMostConsumedItem(df):\n",
    "    if len(df[df[['eater_id', 'foodmenu_id']].duplicated(keep=False)])>0:\n",
    "        return(Exception(\"Multiple foodmenu_id present for same eater_id at index\", df[df[['eater_id', 'foodmenu_id']].duplicated(keep=False)].index))\n",
    "    return df['foodmenu_id'].value_counts()[:3]"
   ]
  },
  {
   "cell_type": "markdown",
   "id": "08cce945",
   "metadata": {},
   "source": [
    "# Example of function usage on dataframe df"
   ]
  },
  {
   "cell_type": "code",
   "execution_count": 5,
   "id": "1f9e1cb9",
   "metadata": {},
   "outputs": [
    {
     "data": {
      "text/plain": [
       "0    10\n",
       "1    10\n",
       "2     8\n",
       "Name: foodmenu_id, dtype: int64"
      ]
     },
     "execution_count": 5,
     "metadata": {},
     "output_type": "execute_result"
    }
   ],
   "source": [
    "findMostConsumedItem(df)"
   ]
  },
  {
   "cell_type": "markdown",
   "id": "767eec32",
   "metadata": {},
   "source": [
    "In above example, Top 3 foodmenu_id are selected, foodmenu items with id {0,1,2} appear most with their respective frequency {10,10,8}"
   ]
  },
  {
   "cell_type": "markdown",
   "id": "4aef751b",
   "metadata": {},
   "source": [
    "# This function adds a repeated value to our DF for verification purpose.\n",
    "### Watch how returned value is now an Exception with indices present within its String."
   ]
  },
  {
   "cell_type": "code",
   "execution_count": 6,
   "id": "ac32b70e",
   "metadata": {},
   "outputs": [],
   "source": [
    "def addRepeatedValue(df):\n",
    "    df.loc[len(df.index)] = [0,0]"
   ]
  },
  {
   "cell_type": "code",
   "execution_count": 7,
   "id": "5aa61507",
   "metadata": {},
   "outputs": [],
   "source": [
    "addRepeatedValue(df)"
   ]
  },
  {
   "cell_type": "code",
   "execution_count": 8,
   "id": "75adba93",
   "metadata": {},
   "outputs": [
    {
     "data": {
      "text/plain": [
       "Exception('Multiple foodmenu_id present for same eater_id at index',\n",
       "          Int64Index([0, 55], dtype='int64'))"
      ]
     },
     "execution_count": 8,
     "metadata": {},
     "output_type": "execute_result"
    }
   ],
   "source": [
    "findMostConsumedItem(df)"
   ]
  },
  {
   "cell_type": "markdown",
   "id": "26b274c7",
   "metadata": {},
   "source": [
    "# Testcase 1 :  \n",
    "### df here contains no repeated values for foodmenu_id per eater_id, hence there is no exception object expected."
   ]
  },
  {
   "cell_type": "code",
   "execution_count": 9,
   "id": "926796fa",
   "metadata": {},
   "outputs": [],
   "source": [
    "def testcase1():\n",
    "    df = pd.read_csv(\"logs.csv\")\n",
    "    items = findMostConsumedItem(df)\n",
    "    if type(items) == Exception:\n",
    "        print(\"Exception raised, duplicate values are present in DF\")\n",
    "    else:\n",
    "        print(\"Highest frequency 3 foodmenu_id's are: \")\n",
    "        print(items)"
   ]
  },
  {
   "cell_type": "code",
   "execution_count": 10,
   "id": "ce8a8c1b",
   "metadata": {},
   "outputs": [
    {
     "name": "stdout",
     "output_type": "stream",
     "text": [
      "Highest frequency 3 foodmenu_id's are: \n",
      "0    10\n",
      "1    10\n",
      "2     8\n",
      "Name: foodmenu_id, dtype: int64\n"
     ]
    }
   ],
   "source": [
    "testcase1()"
   ]
  },
  {
   "cell_type": "markdown",
   "id": "f43bbdae",
   "metadata": {},
   "source": [
    "# Testcase 2 :  \n",
    "### df here contains repeated values for foodmenu_id per eater_id, hence there is exception object expected and error message is displayed along with duplicate indices."
   ]
  },
  {
   "cell_type": "code",
   "execution_count": 11,
   "id": "58ca10ea",
   "metadata": {},
   "outputs": [],
   "source": [
    "def testcase2():\n",
    "    df = pd.read_csv(\"logs.csv\")\n",
    "    addRepeatedValue(df)\n",
    "    items = findMostConsumedItem(df)\n",
    "    if type(items) == Exception:\n",
    "        print(\"Exception raised, duplicate values are present in DF\")\n",
    "        print(items)\n",
    "    else:\n",
    "        print(\"Highest frequency 3 foodmenu_id's are: \")\n",
    "        print(items)"
   ]
  },
  {
   "cell_type": "code",
   "execution_count": 12,
   "id": "46ee4866",
   "metadata": {},
   "outputs": [
    {
     "name": "stdout",
     "output_type": "stream",
     "text": [
      "Exception raised, duplicate values are present in DF\n",
      "('Multiple foodmenu_id present for same eater_id at index', Int64Index([0, 55], dtype='int64'))\n"
     ]
    }
   ],
   "source": [
    "testcase2()"
   ]
  },
  {
   "cell_type": "code",
   "execution_count": null,
   "id": "5a5262a0",
   "metadata": {},
   "outputs": [],
   "source": []
  }
 ],
 "metadata": {
  "kernelspec": {
   "display_name": "Python 3 (ipykernel)",
   "language": "python",
   "name": "python3"
  },
  "language_info": {
   "codemirror_mode": {
    "name": "ipython",
    "version": 3
   },
   "file_extension": ".py",
   "mimetype": "text/x-python",
   "name": "python",
   "nbconvert_exporter": "python",
   "pygments_lexer": "ipython3",
   "version": "3.10.8"
  }
 },
 "nbformat": 4,
 "nbformat_minor": 5
}
